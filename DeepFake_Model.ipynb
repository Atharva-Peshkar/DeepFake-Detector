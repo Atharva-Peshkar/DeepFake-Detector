{
  "nbformat": 4,
  "nbformat_minor": 0,
  "metadata": {
    "colab": {
      "name": "DeepFake Model",
      "provenance": [],
      "authorship_tag": "ABX9TyO+ouNxpY8xjdZuv7GzW7Yz",
      "include_colab_link": true
    },
    "kernelspec": {
      "name": "python3",
      "display_name": "Python 3"
    }
  },
  "cells": [
    {
      "cell_type": "markdown",
      "metadata": {
        "id": "view-in-github",
        "colab_type": "text"
      },
      "source": [
        "<a href=\"https://colab.research.google.com/github/Atharva-Peshkar/DeepFake-Detector/blob/main/DeepFake_Model.ipynb\" target=\"_parent\"><img src=\"https://colab.research.google.com/assets/colab-badge.svg\" alt=\"Open In Colab\"/></a>"
      ]
    },
    {
      "cell_type": "code",
      "metadata": {
        "id": "zdohSxpO-LyS",
        "colab": {
          "base_uri": "https://localhost:8080/"
        },
        "outputId": "00d07c57-ec50-490d-e09a-db6e5cebe02f"
      },
      "source": [
        "from google.colab import drive\n",
        "drive.mount('/gdrive')\n",
        "%cd /gdrive"
      ],
      "execution_count": null,
      "outputs": [
        {
          "output_type": "stream",
          "text": [
            "Mounted at /gdrive\n",
            "/gdrive\n"
          ],
          "name": "stdout"
        }
      ]
    },
    {
      "cell_type": "code",
      "metadata": {
        "id": "72tAVmdI-NRs",
        "colab": {
          "base_uri": "https://localhost:8080/"
        },
        "outputId": "5f0cb526-c5f1-463c-f810-0666440676ff"
      },
      "source": [
        "from keras.applications.inception_v3 import InceptionV3\n",
        "from keras.layers import TimeDistributed\n",
        "from keras.models import Model\n",
        "from keras.models import Sequential\n",
        "from keras.layers import Dense\n",
        "from keras.layers import LSTM\n",
        "from keras.layers import Dropout\n",
        "from keras.layers import Input\n",
        "from keras.layers import Reshape\n",
        "from keras.layers import GlobalAveragePooling2D\n",
        "\n",
        "base_model = InceptionV3(input_shape = (299, 299, 3),include_top=False, weights='imagenet')\n",
        "\n",
        "for layer_model in base_model.layers:\n",
        "  layer_model.trainable = False\n",
        "\n",
        "\n",
        "crnn = Sequential([\n",
        "                   TimeDistributed(base_model,input_shape=(40,299,299,3)),   #Input to InceptionV3 wrapped in TimeDistributed Layer = (Timesteps,Height,Width,Chanels)\n",
        "                   TimeDistributed(GlobalAveragePooling2D()),     #Output from InceptionV3 (Batch_Size,8,8,2048) passed through this to remove the spacial data and only keep the temporal data\n",
        "                   LSTM(2048,dropout=0.5,input_shape=(40,2048)),  #Input Shape = (Timesteps,Features)\n",
        "                   Dense(512),\n",
        "                   Dropout(0.5),\n",
        "                   Dense(2,activation=\"softmax\")\n",
        "])\n",
        "\n",
        "\n",
        "print(crnn.summary())"
      ],
      "execution_count": null,
      "outputs": [
        {
          "output_type": "stream",
          "text": [
            "Model: \"sequential_8\"\n",
            "_________________________________________________________________\n",
            "Layer (type)                 Output Shape              Param #   \n",
            "=================================================================\n",
            "time_distributed_16 (TimeDis (None, 40, 8, 8, 2048)    21802784  \n",
            "_________________________________________________________________\n",
            "time_distributed_17 (TimeDis (None, 40, 2048)          0         \n",
            "_________________________________________________________________\n",
            "lstm_8 (LSTM)                (None, 2048)              33562624  \n",
            "_________________________________________________________________\n",
            "dense_16 (Dense)             (None, 512)               1049088   \n",
            "_________________________________________________________________\n",
            "dropout (Dropout)            (None, 512)               0         \n",
            "_________________________________________________________________\n",
            "dense_17 (Dense)             (None, 2)                 1026      \n",
            "=================================================================\n",
            "Total params: 56,415,522\n",
            "Trainable params: 34,612,738\n",
            "Non-trainable params: 21,802,784\n",
            "_________________________________________________________________\n",
            "None\n"
          ],
          "name": "stdout"
        }
      ]
    },
    {
      "cell_type": "code",
      "metadata": {
        "id": "IHVn4JtEG9CZ"
      },
      "source": [
        ""
      ],
      "execution_count": null,
      "outputs": []
    }
  ]
}